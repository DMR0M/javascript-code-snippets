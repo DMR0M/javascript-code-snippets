{
 "cells": [
  {
   "cell_type": "markdown",
   "metadata": {},
   "source": [
    "### Javascript Loops"
   ]
  },
  {
   "attachments": {},
   "cell_type": "markdown",
   "metadata": {},
   "source": [
    "#### El Classico Loop"
   ]
  },
  {
   "cell_type": "code",
   "execution_count": null,
   "metadata": {
    "vscode": {
     "languageId": "javascript"
    }
   },
   "outputs": [],
   "source": [
    "function std_loop(...nums) {\n",
    "    let sum = 0;\n",
    "    for (let i = 0; i < nums.length; i++) {\n",
    "        sum += nums[i];\n",
    "    }\n",
    "    return sum;\n",
    "}"
   ]
  },
  {
   "attachments": {},
   "cell_type": "markdown",
   "metadata": {},
   "source": [
    "#### For of Loop"
   ]
  },
  {
   "cell_type": "code",
   "execution_count": null,
   "metadata": {
    "vscode": {
     "languageId": "javascript"
    }
   },
   "outputs": [],
   "source": [
    "function for_of_loop(...nums) {\n",
    "    let sum = 0;\n",
    "    for (let n of nums) {\n",
    "        sum += n;\n",
    "    }\n",
    "    return sum;\n",
    "}"
   ]
  },
  {
   "attachments": {},
   "cell_type": "markdown",
   "metadata": {},
   "source": [
    "#### For in Loop"
   ]
  },
  {
   "cell_type": "code",
   "execution_count": null,
   "metadata": {
    "vscode": {
     "languageId": "javascript"
    }
   },
   "outputs": [],
   "source": [
    "function for_in_loop(...nums) {\n",
    "    let sum = 0;\n",
    "    for (let i in nums) {\n",
    "        sum += nums[i];\n",
    "    }\n",
    "    return sum;\n",
    "}"
   ]
  },
  {
   "cell_type": "markdown",
   "metadata": {},
   "source": [
    "#### Foreach Loop"
   ]
  },
  {
   "cell_type": "code",
   "execution_count": null,
   "metadata": {
    "vscode": {
     "languageId": "javascript"
    }
   },
   "outputs": [],
   "source": [
    "function for_each_loop(...nums) {\n",
    "    let sum = 0 \n",
    "    nums.forEach(n => {\n",
    "        sum += n;\n",
    "    });\n",
    "    return sum;\n",
    "}"
   ]
  },
  {
   "attachments": {},
   "cell_type": "markdown",
   "metadata": {},
   "source": [
    "#### Initial Array"
   ]
  },
  {
   "cell_type": "code",
   "execution_count": null,
   "metadata": {
    "vscode": {
     "languageId": "javascript"
    }
   },
   "outputs": [],
   "source": [
    "let numbers = [1, 2, 3, 4];"
   ]
  },
  {
   "attachments": {},
   "cell_type": "markdown",
   "metadata": {},
   "source": [
    "#### For of Loop with getting index"
   ]
  },
  {
   "cell_type": "code",
   "execution_count": null,
   "metadata": {
    "vscode": {
     "languageId": "javascript"
    }
   },
   "outputs": [],
   "source": [
    "function for_of_loop_index(nums) {\n",
    "    let sum = 0;\n",
    "    for (const [idx, ele] of nums.entries()) {\n",
    "        console.log(`Iteration: ${idx+1}\\n Adding ${ele} to sum...`)\n",
    "        sum += ele;\n",
    "    }\n",
    "    return `Total sum: ${sum}`;\n",
    "}"
   ]
  },
  {
   "attachments": {},
   "cell_type": "markdown",
   "metadata": {},
   "source": [
    "#### Foreach Loop with getting index"
   ]
  },
  {
   "cell_type": "code",
   "execution_count": null,
   "metadata": {
    "vscode": {
     "languageId": "javascript"
    }
   },
   "outputs": [],
   "source": [
    "// Foreach Loop w/ index\n",
    "function for_each_loop_index(nums) {\n",
    "    let sum = 0;\n",
    "    nums.forEach((ele, idx) => {\n",
    "      console.log(`Iteration: ${idx + 1}\\n Adding ${ele} to sum...`);\n",
    "      sum += ele;\n",
    "    });\n",
    "    return `Total sum: ${sum}`;\n",
    "  }"
   ]
  },
  {
   "attachments": {},
   "cell_type": "markdown",
   "metadata": {},
   "source": [
    "#### Predicate Function"
   ]
  },
  {
   "cell_type": "code",
   "execution_count": null,
   "metadata": {
    "vscode": {
     "languageId": "javascript"
    }
   },
   "outputs": [],
   "source": [
    "// Predicate Function\n",
    "const square_num = (n) => {\n",
    "    return n**2;\n",
    "}"
   ]
  },
  {
   "attachments": {},
   "cell_type": "markdown",
   "metadata": {},
   "source": [
    "#### Foreach loop with function"
   ]
  },
  {
   "cell_type": "code",
   "execution_count": null,
   "metadata": {
    "vscode": {
     "languageId": "javascript"
    }
   },
   "outputs": [],
   "source": [
    "// For each loop with function\n",
    "function for_each_combo_1(nums) {\n",
    "    let sum = 0;\n",
    "    nums.forEach((n) => {\n",
    "        sum += square_num(n);\n",
    "    });\n",
    "    return sum;\n",
    "}"
   ]
  },
  {
   "attachments": {},
   "cell_type": "markdown",
   "metadata": {},
   "source": [
    "#### Foreach loop with function and logging"
   ]
  },
  {
   "cell_type": "code",
   "execution_count": null,
   "metadata": {
    "vscode": {
     "languageId": "javascript"
    }
   },
   "outputs": [],
   "source": [
    "// For each loop with function and logging\n",
    "function for_each_combo_2(nums) {\n",
    "    let sum = 0;\n",
    "    nums.forEach((ele, idx) => {\n",
    "        console.log(`Iteration: ${idx + 1}`);\n",
    "        sum += square_num(ele)\n",
    "        console.log(`Adding ${sum} to sum...`);\n",
    "    });\n",
    "    return sum;\n",
    "}"
   ]
  }
 ],
 "metadata": {
  "kernelspec": {
   "display_name": "Python 3",
   "language": "python",
   "name": "python3"
  },
  "language_info": {
   "codemirror_mode": {
    "name": "ipython",
    "version": 3
   },
   "file_extension": ".py",
   "mimetype": "text/x-python",
   "name": "python",
   "nbconvert_exporter": "python",
   "pygments_lexer": "ipython3",
   "version": "3.11.2"
  },
  "orig_nbformat": 4
 },
 "nbformat": 4,
 "nbformat_minor": 2
}
